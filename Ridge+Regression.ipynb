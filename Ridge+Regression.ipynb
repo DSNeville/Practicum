{
 "cells": [
  {
   "cell_type": "code",
   "execution_count": 60,
   "metadata": {},
   "outputs": [
    {
     "name": "stdout",
     "output_type": "stream",
     "text": [
      "training xgb model...\n",
      "[0]\ttrain-rmse:199.135\n",
      "[1]\ttrain-rmse:144.441\n",
      "[2]\ttrain-rmse:104.401\n",
      "[3]\ttrain-rmse:75.0942\n",
      "[4]\ttrain-rmse:54.8394\n",
      "[5]\ttrain-rmse:39.909\n",
      "[6]\ttrain-rmse:29.0933\n",
      "[7]\ttrain-rmse:21.4535\n",
      "[8]\ttrain-rmse:16.1608\n",
      "[9]\ttrain-rmse:12.3654\n",
      "[10]\ttrain-rmse:9.40966\n",
      "[11]\ttrain-rmse:7.69997\n",
      "[12]\ttrain-rmse:6.03475\n",
      "[13]\ttrain-rmse:4.85785\n",
      "[14]\ttrain-rmse:3.90114\n",
      "[15]\ttrain-rmse:3.36007\n",
      "[16]\ttrain-rmse:2.67474\n",
      "[17]\ttrain-rmse:2.20594\n",
      "[18]\ttrain-rmse:1.83359\n",
      "[19]\ttrain-rmse:1.61321\n",
      "[20]\ttrain-rmse:1.35221\n",
      "[21]\ttrain-rmse:1.20292\n",
      "[22]\ttrain-rmse:1.06671\n",
      "[23]\ttrain-rmse:0.909228\n",
      "[24]\ttrain-rmse:0.798715\n",
      "[25]\ttrain-rmse:0.715271\n",
      "[26]\ttrain-rmse:0.659335\n",
      "[27]\ttrain-rmse:0.573475\n",
      "[28]\ttrain-rmse:0.498174\n",
      "[29]\ttrain-rmse:0.441628\n",
      "[30]\ttrain-rmse:0.397919\n",
      "[31]\ttrain-rmse:0.355675\n",
      "[32]\ttrain-rmse:0.309196\n",
      "[33]\ttrain-rmse:0.281217\n",
      "[34]\ttrain-rmse:0.246979\n",
      "[35]\ttrain-rmse:0.216129\n",
      "[36]\ttrain-rmse:0.19393\n",
      "[37]\ttrain-rmse:0.167735\n",
      "[38]\ttrain-rmse:0.157404\n",
      "[39]\ttrain-rmse:0.136133\n",
      "[40]\ttrain-rmse:0.119078\n",
      "[41]\ttrain-rmse:0.10465\n",
      "[42]\ttrain-rmse:0.09666\n",
      "[43]\ttrain-rmse:0.092873\n",
      "[44]\ttrain-rmse:0.085115\n",
      "[45]\ttrain-rmse:0.078295\n",
      "[46]\ttrain-rmse:0.07056\n",
      "[47]\ttrain-rmse:0.06087\n",
      "[48]\ttrain-rmse:0.052\n",
      "[49]\ttrain-rmse:0.045509\n",
      "training ridge regression...\n",
      "Prediction: Date\n",
      "2017-09-01    386.370417\n",
      "2017-09-05    302.520110\n",
      "2017-09-06    317.064109\n",
      "2017-09-07    336.856217\n",
      "2017-09-08    334.764343\n",
      "2017-09-11    297.002547\n",
      "2017-09-12    297.029326\n",
      "Name: ETHOpen, dtype: float64\n"
     ]
    }
   ],
   "source": [
    "import numpy as np\n",
    "import pandas as pd\n",
    "import xgboost as xgb\n",
    "from sklearn.linear_model import Ridge\n",
    "\n",
    "data = pd.read_csv('C:/Users/JP/Documents/School/Practicum/Github/Practicum/data/dataset2.csv')\n",
    "\n",
    "df = pd.DataFrame(data)\n",
    "df['Date'] = pd.to_datetime(df['Date'],format='%Y-%m-%d')\n",
    "df = df.set_index('Date')\n",
    "df=df[df.index>'2017-05-30']\n",
    "\n",
    "train=df[df.index<'2017-09-01']\n",
    "\n",
    "features = ['TBondsOpenValue', 'UnemploymentValue', 'BTCOpen', 'BTCOpenTM1', 'BTCOpenTM2',\\\n",
    "        'BTCOpenTM3', 'BTCOpenTM4', 'BTCOpenTM5', 'BTCOpenTM6', 'BTCOpenTM7','GDP','SandPValue',\\\n",
    "            'ETHOpenTM1', 'ETHOpenTM2',\\\n",
    "        'ETHOpenTM3', 'ETHOpenTM4', 'ETHOpenTM5', 'ETHOpenTM6', 'ETHOpenTM7']\n",
    "\n",
    "train=train.dropna()\n",
    "\n",
    "\n",
    "dtrain = xgb.DMatrix(train.loc[:, features].values, \\\n",
    "                     label = train.loc[:, 'ETHOpen'].values)\n",
    "\n",
    "params = {}\n",
    "params['booster']  = 'gbtree'\n",
    "params['objective'] = 'reg:linear'\n",
    "params['max_depth'] = 6\n",
    "params['subsample'] = 0.8\n",
    "params['colsample_bytree'] = 0.8\n",
    "params['silent'] = 1\n",
    "params['eval_metric'] = 'rmse'\n",
    "num_round = 50\n",
    "eval_list  = [(dtrain,'train')]\n",
    "\n",
    "train['Date'] = train.index.values\n",
    "\n",
    "print('Training xgb model:')\n",
    "bst = xgb.train(params, dtrain, num_round, eval_list)\n",
    "\n",
    "print('Trainign Ridge Regression')\n",
    "lr = Ridge()\n",
    "lr.fit(train.loc[:, features].values, \\\n",
    "       train.loc[:, 'ETHOpen'].values)\n",
    "\n",
    "test = df[df.index>='2017-09-01']\n",
    "test=test.dropna()\n",
    "\n",
    "while True:\n",
    "    dtest = xgb.DMatrix(test[features].values)\n",
    "    xgb_pred = bst.predict(dtest)\n",
    "    lr_pred = lr.predict(test[features].values)\n",
    "    test['ETHOpen'] = 0.2*xgb_pred+0.8*lr_pred\n",
    "\n",
    "    target = train['ETHOpen']\n",
    "    \n",
    "    done = 1\n",
    "    \n",
    "    if done:\n",
    "        print(\"Prediction: {}\".format(test['ETHOpen']))\n",
    "        break\n",
    "\n"
   ]
  },
  {
   "cell_type": "code",
   "execution_count": 64,
   "metadata": {},
   "outputs": [
    {
     "data": {
      "text/plain": [
       "Date\n",
       "2017-09-06    317.94\n",
       "2017-09-07    338.92\n",
       "2017-09-08    335.37\n",
       "2017-09-11    299.21\n",
       "2017-09-12    297.95\n",
       "Name: ETHOpen, dtype: float64"
      ]
     },
     "execution_count": 64,
     "metadata": {},
     "output_type": "execute_result"
    }
   ],
   "source": [
    "df[df.index<'2017-09-13']['ETHOpen'].tail()"
   ]
  },
  {
   "cell_type": "code",
   "execution_count": null,
   "metadata": {},
   "outputs": [],
   "source": [
    "\n"
   ]
  },
  {
   "cell_type": "code",
   "execution_count": null,
   "metadata": {},
   "outputs": [],
   "source": []
  },
  {
   "cell_type": "code",
   "execution_count": null,
   "metadata": {},
   "outputs": [],
   "source": []
  }
 ],
 "metadata": {
  "kernelspec": {
   "display_name": "Python 3",
   "language": "python",
   "name": "python3"
  },
  "language_info": {
   "codemirror_mode": {
    "name": "ipython",
    "version": 3
   },
   "file_extension": ".py",
   "mimetype": "text/x-python",
   "name": "python",
   "nbconvert_exporter": "python",
   "pygments_lexer": "ipython3",
   "version": "3.6.1"
  }
 },
 "nbformat": 4,
 "nbformat_minor": 2
}
